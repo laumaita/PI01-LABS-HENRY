{
 "cells": [
  {
   "cell_type": "code",
   "execution_count": 2,
   "metadata": {},
   "outputs": [],
   "source": [
    "import pandas as pd\n",
    "import numpy as np"
   ]
  },
  {
   "cell_type": "code",
   "execution_count": 3,
   "metadata": {},
   "outputs": [],
   "source": [
    "df_net= pd.read_csv('transformacion_netflix.csv', delimiter=',', encoding='utf-8')\n",
    "df_dis= pd.read_csv('transformacion_disney.csv', delimiter=',', encoding='utf-8')\n",
    "df_hulu= pd.read_csv('transformacion_hulu.csv', delimiter=',', encoding='utf-8')\n",
    "df_amazon= pd.read_csv('transformacion_amazon.csv', delimiter=',', encoding='utf-8')\n",
    "df_ratings=pd.read_csv('transformacion_ratings.csv', delimiter=',', encoding='utf-8')\n"
   ]
  },
  {
   "cell_type": "code",
   "execution_count": 4,
   "metadata": {},
   "outputs": [],
   "source": [
    "#creo un archivo gral\n",
    "df_plataformagral = pd.concat([df_net,df_hulu,df_amazon,df_dis])"
   ]
  },
  {
   "cell_type": "code",
   "execution_count": 5,
   "metadata": {},
   "outputs": [],
   "source": [
    "#lo guardo\n",
    "df_plataformagral.to_csv('totalplataformas.csv', index=False)"
   ]
  },
  {
   "attachments": {},
   "cell_type": "markdown",
   "metadata": {},
   "source": [
    "Película con mayor duración con filtros opcionales de AÑO, PLATAFORMA Y TIPO DE DURACIÓN"
   ]
  },
  {
   "cell_type": "code",
   "execution_count": 6,
   "metadata": {},
   "outputs": [],
   "source": [
    "\n",
    "def get_max_duration(year:int=None,platform:str=None,duration_type:str=None):\n",
    "    \n",
    "    #declaro parametros\n",
    "    if platform == 'netflix':\n",
    "        inicioId = 'n'\n",
    "    elif platform == 'hulu':\n",
    "        inicioId = 'h'\n",
    "    elif platform == 'disney':\n",
    "        inicioId = 'd'\n",
    "    elif platform == 'amazon':\n",
    "        inicioId = 'a'\n",
    "    elif platform is None:\n",
    "        inicioId = None\n",
    "    else:\n",
    "        return 'no se encuentra plataforma, ingrear una de las opciones: netflix, hulu, disney o amazon'\n",
    "    \n",
    "\n",
    "    if duration_type == 'season':\n",
    "        durationtype= 'season'\n",
    "    elif duration_type == 'film':\n",
    "        durationtype = 'min'\n",
    "    else:\n",
    "        return 'ingresar season o film en minuscula' \n",
    "\n",
    "  \n",
    "    df_plataformagral=  pd.read_csv('totalplataformas.csv', delimiter=',', encoding='utf-8')\n",
    "\n",
    "    #aplico filtro para posibles escenarios\n",
    "\n",
    "    if year and platform and  duration_type  is not None: #si se ingresan todos los parametros\n",
    "\n",
    "        filtro1= df_plataformagral[df_plataformagral.id.str.contains(inicioId) #filtro por primer letra de plataforma\n",
    "                            & (df_plataformagral.release_year==year)  #filtro por el año\n",
    "                            & (df_plataformagral.duration_type==durationtype) ] #filtro por la duracion\n",
    "        max = filtro1['duration_int'].max() #guardo el valor maximo\n",
    "        filtro2 = filtro1.query(\"duration_int==@max\") #consulto la duracion de ese valor\n",
    "        pelicula = filtro2[['id','title', 'duration_int', 'duration_type']] #guardo lo que quiero que retorne\n",
    "\n",
    "        if  not pelicula.empty: #si segun los datos ingresados el dataframe no esta vacio\n",
    "\n",
    "            return pelicula\n",
    "    \n",
    "    elif year is None: #si no se pasa el parametro year\n",
    "        \n",
    "        if inicioId is None : #si parametro year y inicoId no se ingresan\n",
    "            \n",
    "            filtro1= df_plataformagral[(df_plataformagral.duration_type==durationtype) ] #filtro por la duracion\n",
    "            max = filtro1['duration_int'].max()\n",
    "            filtro2 = filtro1.query(\"duration_int==@max\")\n",
    "            pelicula = filtro2[['title', 'duration_int', 'duration_type']]\n",
    "            return pelicula        \n",
    "        \n",
    "        filtro1= df_plataformagral[df_plataformagral['id'].str.contains(inicioId) #filtro por primer letra de plataforma\n",
    "                            & (df_plataformagral.duration_type==durationtype) ] #filtro por la duracion\n",
    "        max = filtro1['duration_int'].max()\n",
    "        filtro2 = filtro1.query(\"duration_int==@max\")\n",
    "        pelicula = filtro2[['title', 'duration_int', 'duration_type']]\n",
    "        return pelicula\n",
    "                   \n",
    "    elif inicioId is None : #si inicioid no se ingresa\n",
    "        if durationtype is None: #si parametro  inicoId y durationtype no se ingresan\n",
    "\n",
    "            filtro1= df_plataformagral[(df_plataformagral.release_year==year)]#filtro por año                    \n",
    "            max = filtro1['duration_int'].max()\n",
    "            filtro2 = filtro1.query(\"duration_int==@max\")\n",
    "            pelicula = filtro2[['id','title', 'duration_int', 'duration_type']]\n",
    "            return pelicula    \n",
    "     \n",
    "        filtro1= df_plataformagral[(df_plataformagral.release_year==year) #filtro por año\n",
    "                                   & (df_plataformagral.duration_type==durationtype) ] #filtro por la duracion\n",
    "        max = filtro1['duration_int'].max()\n",
    "        filtro2 = filtro1.query(\"duration_int==@max\")\n",
    "        pelicula = filtro2[['id','title', 'duration_int', 'duration_type']]   \n",
    "        return pelicula \n"
   ]
  },
  {
   "cell_type": "code",
   "execution_count": 8,
   "metadata": {},
   "outputs": [
    {
     "data": {
      "text/html": [
       "<div>\n",
       "<style scoped>\n",
       "    .dataframe tbody tr th:only-of-type {\n",
       "        vertical-align: middle;\n",
       "    }\n",
       "\n",
       "    .dataframe tbody tr th {\n",
       "        vertical-align: top;\n",
       "    }\n",
       "\n",
       "    .dataframe thead th {\n",
       "        text-align: right;\n",
       "    }\n",
       "</style>\n",
       "<table border=\"1\" class=\"dataframe\">\n",
       "  <thead>\n",
       "    <tr style=\"text-align: right;\">\n",
       "      <th></th>\n",
       "      <th>title</th>\n",
       "      <th>duration_int</th>\n",
       "      <th>duration_type</th>\n",
       "    </tr>\n",
       "  </thead>\n",
       "  <tbody>\n",
       "    <tr>\n",
       "      <th>9104</th>\n",
       "      <td>stephen king's it</td>\n",
       "      <td>192.0</td>\n",
       "      <td>min</td>\n",
       "    </tr>\n",
       "  </tbody>\n",
       "</table>\n",
       "</div>"
      ],
      "text/plain": [
       "                  title  duration_int duration_type\n",
       "9104  stephen king's it         192.0           min"
      ]
     },
     "execution_count": 8,
     "metadata": {},
     "output_type": "execute_result"
    }
   ],
   "source": [
    "get_max_duration(None,'hulu', 'film')"
   ]
  },
  {
   "attachments": {},
   "cell_type": "markdown",
   "metadata": {},
   "source": [
    "Cantidad de películas por plataforma con un puntaje mayor a XX en determinado año "
   ]
  },
  {
   "cell_type": "code",
   "execution_count": 9,
   "metadata": {},
   "outputs": [],
   "source": [
    "df_ratings= pd.read_csv('transformacion_ratings.csv', delimiter=',', encoding='utf-8')\n"
   ]
  },
  {
   "cell_type": "code",
   "execution_count": 10,
   "metadata": {},
   "outputs": [
    {
     "data": {
      "text/html": [
       "<div>\n",
       "<style scoped>\n",
       "    .dataframe tbody tr th:only-of-type {\n",
       "        vertical-align: middle;\n",
       "    }\n",
       "\n",
       "    .dataframe tbody tr th {\n",
       "        vertical-align: top;\n",
       "    }\n",
       "\n",
       "    .dataframe thead th {\n",
       "        text-align: right;\n",
       "    }\n",
       "</style>\n",
       "<table border=\"1\" class=\"dataframe\">\n",
       "  <thead>\n",
       "    <tr style=\"text-align: right;\">\n",
       "      <th></th>\n",
       "      <th>userId</th>\n",
       "      <th>rating</th>\n",
       "      <th>timestamp</th>\n",
       "      <th>id</th>\n",
       "      <th>fecha</th>\n",
       "      <th>score</th>\n",
       "      <th>year</th>\n",
       "    </tr>\n",
       "  </thead>\n",
       "  <tbody>\n",
       "    <tr>\n",
       "      <th>0</th>\n",
       "      <td>1</td>\n",
       "      <td>1.0</td>\n",
       "      <td>1425941529</td>\n",
       "      <td>as680</td>\n",
       "      <td>2015-03-09 22:52:09</td>\n",
       "      <td>3.549127</td>\n",
       "      <td>2015</td>\n",
       "    </tr>\n",
       "  </tbody>\n",
       "</table>\n",
       "</div>"
      ],
      "text/plain": [
       "   userId  rating   timestamp     id               fecha     score  year\n",
       "0       1     1.0  1425941529  as680 2015-03-09 22:52:09  3.549127  2015"
      ]
     },
     "execution_count": 10,
     "metadata": {},
     "output_type": "execute_result"
    }
   ],
   "source": [
    "df_ratings['fecha']= pd.to_datetime(df_ratings['fecha']) #necesito separar solo en año en nueva columna\n",
    "df_ratings['year']= df_ratings['fecha'].dt.year\n",
    "df_ratings.head(1)"
   ]
  },
  {
   "cell_type": "code",
   "execution_count": 13,
   "metadata": {},
   "outputs": [],
   "source": [
    "def get_score_count(platform, scored, year):  \n",
    "\n",
    "    import datetime\n",
    "\n",
    "    #declaro parametros\n",
    "    if platform == 'netflix':\n",
    "        plataforma = 'n'\n",
    "    elif platform == 'hulu':\n",
    "        plataforma = 'h'\n",
    "    elif platform == 'disney':\n",
    "        plataforma = 'd'\n",
    "    elif platform == 'amazon':\n",
    "        plataforma = 'a'\n",
    "    else:\n",
    "        return 'ingresar una de las opciones: netflix, hulu, amazon o disney'\n",
    "    \n",
    "\n",
    "    df_ratings = pd.read_csv(r'transformacion_ratings.csv', delimiter=',', encoding='utf-8')\n",
    "    \n",
    "    df_ratings['fecha']= pd.to_datetime(df_ratings['fecha']) #modifico el tipo de objeto\n",
    "    df_ratings['year']= df_ratings['fecha'].dt.year #agrego columna de año\n",
    "    consulta_ratings= df_ratings[(df_ratings.year==year) #busco segun año\n",
    "                            & (df_ratings.id.str.contains(plataforma))] #filtro por id\n",
    "\n",
    "    consulta_score = consulta_ratings[consulta_ratings.score> scored ] #filtro por score>a lo ingresado\n",
    "\n",
    "    if consulta_score.empty :\n",
    "        return 'ingresar scored mayor a 3.3 y menor a 3.8, o el año ingresado no tiene registro'\n",
    "    else:\n",
    "       return 'cantidad de peliculas',consulta_score.id.count()"
   ]
  },
  {
   "cell_type": "code",
   "execution_count": 14,
   "metadata": {},
   "outputs": [
    {
     "data": {
      "text/plain": [
       "('cantidad de peliculas', 38)"
      ]
     },
     "execution_count": 14,
     "metadata": {},
     "output_type": "execute_result"
    }
   ],
   "source": [
    "get_score_count('netflix', 3.7, 2015)"
   ]
  },
  {
   "attachments": {},
   "cell_type": "markdown",
   "metadata": {},
   "source": [
    "Cantidad de películas por plataforma con filtro de PLATAFORMA"
   ]
  },
  {
   "cell_type": "code",
   "execution_count": 15,
   "metadata": {},
   "outputs": [],
   "source": [
    "def get_count_platform(platform): \n",
    "\n",
    "    #Declaro parametros\n",
    "    if platform == 'netflix':\n",
    "        plataforma = 'n'\n",
    "    elif platform == 'hulu':\n",
    "        plataforma= 'h'\n",
    "    elif platform == 'disney':\n",
    "        plataforma= 'd'\n",
    "    elif platform == 'amazon':\n",
    "        plataforma= 'a'\n",
    "    else:\n",
    "        return print('ingrese plataforma: amazon, disney, hulu o netflix')\n",
    "\n",
    "    df_plataformagral =  pd.read_csv('totalplataformas.csv', delimiter=',', encoding='utf-8')\n",
    "\n",
    "    consulta_plataforma= df_plataformagral[(df_plataformagral.id.str.contains(plataforma))#filtro por plataforma\n",
    "                                           & (df_plataformagral.duration_type=='min')]#filtro por duration\n",
    "    conteo_movies= consulta_plataforma.title.count()#cuento\n",
    "    return conteo_movies"
   ]
  },
  {
   "cell_type": "code",
   "execution_count": 16,
   "metadata": {},
   "outputs": [
    {
     "data": {
      "text/plain": [
       "6128"
      ]
     },
     "execution_count": 16,
     "metadata": {},
     "output_type": "execute_result"
    }
   ],
   "source": [
    "get_count_platform('netflix')"
   ]
  },
  {
   "attachments": {},
   "cell_type": "markdown",
   "metadata": {},
   "source": [
    "Actor que más se repite según plataforma y año"
   ]
  },
  {
   "cell_type": "code",
   "execution_count": 17,
   "metadata": {},
   "outputs": [],
   "source": [
    "def get_actor(platform, year): \n",
    "\n",
    "    #declaro parametros\n",
    "    if platform == 'netflix':\n",
    "        plataforma= 'n'\n",
    "    elif platform == 'disney':\n",
    "        plataforma= 'd'\n",
    "    elif platform == 'hulu':\n",
    "        plataforma= 'h'\n",
    "    elif platform == 'amazon':\n",
    "        plataforma= 'a'\n",
    "    else:\n",
    "        return 'ingresar plataforma valida: amazon, disney, hulu o netflix'\n",
    "\n",
    "    \n",
    "    df_plataformagral =  pd.read_csv('totalplataformas.csv', delimiter=',', encoding='utf-8')   \n",
    "\n",
    "    filtroplat = df_plataformagral[(df_plataformagral.id.str.contains(plataforma))\n",
    "                                   & (df_plataformagral.release_year==year)] #filtro por año y plataforma\n",
    "\n",
    "    if filtroplat.empty: #si devuelve df vacio\n",
    "        \n",
    "        return 'el año no se encuentra en el dataset'\n",
    "    else:\n",
    "        lista= filtroplat['cast'] #guardo en nueva variable los actores por peliculas\n",
    "        newlista = [x for x in lista if pd.isnull(x) == False]#elimino flotantes\n",
    "\n",
    "        lista_cast=[]\n",
    "        for i in newlista: #itero para separar actores en diferentes str\n",
    "            separador= i.split(sep=',')\n",
    "            for j in separador: #itero para eliminar espacios en cada nuevo str y agregar a lista\n",
    "                    valores=j.strip()\n",
    "                    lista_cast.append(valores) #agrego valores a lista_cast\n",
    "        df_lista_cast= pd.Series(lista_cast) #transformo a dataframe\n",
    "        return ('El actor mas repetido es:', df_lista_cast.value_counts().idxmax()) #imprimo copnsulta del str mas repetido"
   ]
  },
  {
   "cell_type": "code",
   "execution_count": 18,
   "metadata": {},
   "outputs": [
    {
     "data": {
      "text/plain": [
       "('El actor mas repetido es:', 'james franco')"
      ]
     },
     "execution_count": 18,
     "metadata": {},
     "output_type": "execute_result"
    }
   ],
   "source": [
    "get_actor('netflix', 2015)"
   ]
  }
 ],
 "metadata": {
  "kernelspec": {
   "display_name": "Python 3",
   "language": "python",
   "name": "python3"
  },
  "language_info": {
   "codemirror_mode": {
    "name": "ipython",
    "version": 3
   },
   "file_extension": ".py",
   "mimetype": "text/x-python",
   "name": "python",
   "nbconvert_exporter": "python",
   "pygments_lexer": "ipython3",
   "version": "3.10.5"
  },
  "orig_nbformat": 4
 },
 "nbformat": 4,
 "nbformat_minor": 2
}
